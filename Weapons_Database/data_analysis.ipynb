{
 "cells": [
  {
   "cell_type": "code",
   "execution_count": 2,
   "metadata": {},
   "outputs": [
    {
     "data": {
      "text/html": [
       "<div>\n",
       "<style scoped>\n",
       "    .dataframe tbody tr th:only-of-type {\n",
       "        vertical-align: middle;\n",
       "    }\n",
       "\n",
       "    .dataframe tbody tr th {\n",
       "        vertical-align: top;\n",
       "    }\n",
       "\n",
       "    .dataframe thead th {\n",
       "        text-align: right;\n",
       "    }\n",
       "</style>\n",
       "<table border=\"1\" class=\"dataframe\">\n",
       "  <thead>\n",
       "    <tr style=\"text-align: right;\">\n",
       "      <th></th>\n",
       "      <th>Deal ID</th>\n",
       "      <th>Seller</th>\n",
       "      <th>Buyer</th>\n",
       "      <th>Designation</th>\n",
       "      <th>Description</th>\n",
       "      <th>Armament category</th>\n",
       "      <th>Order date</th>\n",
       "      <th>Order date is estimate</th>\n",
       "      <th>Numbers delivered</th>\n",
       "      <th>Numbers delivered is estimate</th>\n",
       "      <th>Delivery year</th>\n",
       "      <th>Delivery year is estimate</th>\n",
       "      <th>Status</th>\n",
       "      <th>SIPRI estimate</th>\n",
       "      <th>TIV deal unit</th>\n",
       "      <th>TIV delivery values</th>\n",
       "      <th>Local production</th>\n",
       "    </tr>\n",
       "  </thead>\n",
       "  <tbody>\n",
       "    <tr>\n",
       "      <th>0</th>\n",
       "      <td>57734</td>\n",
       "      <td>United States</td>\n",
       "      <td>Singapore</td>\n",
       "      <td>F-15E Strike Eagle</td>\n",
       "      <td>FGA aircraft</td>\n",
       "      <td>Aircraft</td>\n",
       "      <td>2014</td>\n",
       "      <td>Yes</td>\n",
       "      <td>7</td>\n",
       "      <td>Yes</td>\n",
       "      <td>2016</td>\n",
       "      <td>No</td>\n",
       "      <td>New</td>\n",
       "      <td>70.0</td>\n",
       "      <td>70.0</td>\n",
       "      <td>490.0</td>\n",
       "      <td>No</td>\n",
       "    </tr>\n",
       "    <tr>\n",
       "      <th>1</th>\n",
       "      <td>65065</td>\n",
       "      <td>United States</td>\n",
       "      <td>El Salvador</td>\n",
       "      <td>Baron</td>\n",
       "      <td>light transport ac</td>\n",
       "      <td>Aircraft</td>\n",
       "      <td>2017</td>\n",
       "      <td>No</td>\n",
       "      <td>1</td>\n",
       "      <td>No</td>\n",
       "      <td>2017</td>\n",
       "      <td>No</td>\n",
       "      <td>New</td>\n",
       "      <td>0.7</td>\n",
       "      <td>0.7</td>\n",
       "      <td>0.7</td>\n",
       "      <td>No</td>\n",
       "    </tr>\n",
       "    <tr>\n",
       "      <th>2</th>\n",
       "      <td>52390</td>\n",
       "      <td>United States</td>\n",
       "      <td>Thailand</td>\n",
       "      <td>APG-68</td>\n",
       "      <td>combat ac radar</td>\n",
       "      <td>Sensors</td>\n",
       "      <td>2012</td>\n",
       "      <td>No</td>\n",
       "      <td>3</td>\n",
       "      <td>Yes</td>\n",
       "      <td>2017</td>\n",
       "      <td>No</td>\n",
       "      <td>New</td>\n",
       "      <td>2.0</td>\n",
       "      <td>2.0</td>\n",
       "      <td>6.0</td>\n",
       "      <td>No</td>\n",
       "    </tr>\n",
       "    <tr>\n",
       "      <th>3</th>\n",
       "      <td>52390</td>\n",
       "      <td>United States</td>\n",
       "      <td>Thailand</td>\n",
       "      <td>APG-68</td>\n",
       "      <td>combat ac radar</td>\n",
       "      <td>Sensors</td>\n",
       "      <td>2012</td>\n",
       "      <td>No</td>\n",
       "      <td>5</td>\n",
       "      <td>Yes</td>\n",
       "      <td>2016</td>\n",
       "      <td>No</td>\n",
       "      <td>New</td>\n",
       "      <td>2.0</td>\n",
       "      <td>2.0</td>\n",
       "      <td>10.0</td>\n",
       "      <td>No</td>\n",
       "    </tr>\n",
       "    <tr>\n",
       "      <th>4</th>\n",
       "      <td>54492</td>\n",
       "      <td>United States</td>\n",
       "      <td>Italy</td>\n",
       "      <td>F-35B Lightning-2</td>\n",
       "      <td>FGA aircraft</td>\n",
       "      <td>Aircraft</td>\n",
       "      <td>2006</td>\n",
       "      <td>Yes</td>\n",
       "      <td>1</td>\n",
       "      <td>No</td>\n",
       "      <td>2021</td>\n",
       "      <td>No</td>\n",
       "      <td>New</td>\n",
       "      <td>60.0</td>\n",
       "      <td>60.0</td>\n",
       "      <td>60.0</td>\n",
       "      <td>Yes</td>\n",
       "    </tr>\n",
       "  </tbody>\n",
       "</table>\n",
       "</div>"
      ],
      "text/plain": [
       "   Deal ID         Seller        Buyer         Designation  \\\n",
       "0    57734  United States    Singapore  F-15E Strike Eagle   \n",
       "1    65065  United States  El Salvador               Baron   \n",
       "2    52390  United States     Thailand              APG-68   \n",
       "3    52390  United States     Thailand              APG-68   \n",
       "4    54492  United States        Italy   F-35B Lightning-2   \n",
       "\n",
       "          Description Armament category  Order date Order date is estimate  \\\n",
       "0        FGA aircraft          Aircraft        2014                    Yes   \n",
       "1  light transport ac          Aircraft        2017                     No   \n",
       "2     combat ac radar           Sensors        2012                     No   \n",
       "3     combat ac radar           Sensors        2012                     No   \n",
       "4        FGA aircraft          Aircraft        2006                    Yes   \n",
       "\n",
       "   Numbers delivered Numbers delivered is estimate  Delivery year  \\\n",
       "0                  7                           Yes           2016   \n",
       "1                  1                            No           2017   \n",
       "2                  3                           Yes           2017   \n",
       "3                  5                           Yes           2016   \n",
       "4                  1                            No           2021   \n",
       "\n",
       "  Delivery year is estimate Status  SIPRI estimate  TIV deal unit  \\\n",
       "0                        No    New            70.0           70.0   \n",
       "1                        No    New             0.7            0.7   \n",
       "2                        No    New             2.0            2.0   \n",
       "3                        No    New             2.0            2.0   \n",
       "4                        No    New            60.0           60.0   \n",
       "\n",
       "   TIV delivery values Local production  \n",
       "0                490.0               No  \n",
       "1                  0.7               No  \n",
       "2                  6.0               No  \n",
       "3                 10.0               No  \n",
       "4                 60.0              Yes  "
      ]
     },
     "execution_count": 2,
     "metadata": {},
     "output_type": "execute_result"
    }
   ],
   "source": [
    "import pandas as pd\n",
    "import numpy as np\n",
    "from collections import defaultdict\n",
    "# import matplotlib - very important\n",
    "import matplotlib.pyplot as plt\n",
    "# import the toolkit for plotting matplotlib 3D\n",
    "from mpl_toolkits import mplot3d\n",
    "\n",
    "#retrieving the data\n",
    "weapons_data = pd.read_csv(\"DealsAndTIVs.csv\", sep=';')\n",
    "\n",
    "#verifying data\n",
    "weapons_data.head(5)\n"
   ]
  },
  {
   "cell_type": "code",
   "execution_count": 3,
   "metadata": {},
   "outputs": [
    {
     "data": {
      "text/plain": [
       "3539"
      ]
     },
     "execution_count": 3,
     "metadata": {},
     "output_type": "execute_result"
    }
   ],
   "source": [
    "#number of entries\n",
    "#3539 data entries according to this\n",
    "len(weapons_data)"
   ]
  },
  {
   "cell_type": "code",
   "execution_count": 4,
   "metadata": {},
   "outputs": [],
   "source": [
    "#function to count number of instance of event in df\n",
    "def get_value_counts(df, col_name):\n",
    "    count_dict = defaultdict(int)\n",
    "    def update_count_dict(r):\n",
    "        count_dict[r[col_name]] += 1\n",
    "    df.apply(lambda x: update_count_dict(x), axis=1)\n",
    "    rows = [[e, count_dict[e]] for e in count_dict]\n",
    "    return pd.DataFrame(rows, columns=[col_name, \"Count\"])"
   ]
  },
  {
   "cell_type": "code",
   "execution_count": 5,
   "metadata": {},
   "outputs": [
    {
     "name": "stdout",
     "output_type": "stream",
     "text": [
      "             Buyer  Count\n",
      "13           Japan    231\n",
      "21    Saudi Arabia    223\n",
      "39     South Korea    175\n",
      "5        Australia    165\n",
      "41             UAE    142\n",
      "..             ...    ...\n",
      "108         Rwanda      1\n",
      "107           Togo      1\n",
      "88       Mauritius      1\n",
      "94   Syria rebels*      1\n",
      "132        Ireland      1\n",
      "\n",
      "[133 rows x 2 columns]\n"
     ]
    }
   ],
   "source": [
    "#df by country \n",
    "country_df = get_value_counts(weapons_data, \"Buyer\").sort_values(by=\"Count\", ascending=False)\n",
    "print(country_df)"
   ]
  },
  {
   "cell_type": "code",
   "execution_count": 42,
   "metadata": {},
   "outputs": [
    {
     "name": "stdout",
     "output_type": "stream",
     "text": [
      "     Armament category  Count\n",
      "0             Aircraft    951\n",
      "1              Sensors    328\n",
      "2             Missiles   1033\n",
      "3    Armoured vehicles    360\n",
      "4              Engines    639\n",
      "5        Naval weapons     85\n",
      "6  Air defence systems     40\n",
      "7                Ships     42\n",
      "8            Artillery     48\n",
      "9                Other     13\n"
     ]
    }
   ],
   "source": [
    "#df by Armament category\n",
    "Armament_df = get_value_counts(weapons_data, \"Armament category\").sort_values(by=\"Count\", ascending=False)\n",
    "print(Armament_df)"
   ]
  },
  {
   "cell_type": "code",
   "execution_count": 7,
   "metadata": {},
   "outputs": [
    {
     "name": "stdout",
     "output_type": "stream",
     "text": [
      "    Order date  Count\n",
      "0         2014    300\n",
      "13        2009    293\n",
      "10        2008    277\n",
      "8         2015    259\n",
      "6         2011    233\n",
      "2         2012    230\n",
      "14        2010    222\n",
      "7         2013    218\n",
      "5         2016    217\n",
      "1         2017    194\n",
      "12        2007    193\n",
      "3         2006    157\n",
      "4         2018    128\n",
      "21        2005    107\n",
      "22        2002     80\n",
      "9         2019     65\n",
      "16        2003     58\n",
      "24        2004     58\n",
      "15        2000     52\n",
      "11        2020     37\n",
      "26        2001     27\n",
      "19        1997     22\n",
      "25        1998     21\n",
      "17        1984     18\n",
      "28        1999     16\n",
      "23        1995     13\n",
      "20        1996      9\n",
      "30        1988      9\n",
      "18        2021      7\n",
      "27        1990      5\n",
      "33        1987      5\n",
      "31        1983      4\n",
      "32        1994      3\n",
      "29        1992      2\n"
     ]
    }
   ],
   "source": [
    "#df by order date\n",
    "orderDate_df = get_value_counts(weapons_data, \"Order date\").sort_values(by=\"Count\", ascending=False)\n",
    "print(orderDate_df)"
   ]
  },
  {
   "cell_type": "code",
   "execution_count": 8,
   "metadata": {},
   "outputs": [
    {
     "name": "stdout",
     "output_type": "stream",
     "text": [
      "    Delivery year  Count\n",
      "12           2008    203\n",
      "11           2009    210\n",
      "13           2010    237\n",
      "9            2011    262\n",
      "8            2012    277\n",
      "7            2013    262\n",
      "6            2014    256\n",
      "10           2015    302\n",
      "0            2016    304\n",
      "1            2017    266\n",
      "5            2018    264\n",
      "4            2019    238\n",
      "3            2020    237\n",
      "2            2021    221\n"
     ]
    }
   ],
   "source": [
    "#df by delivery year\n",
    "deliveryYear_df = get_value_counts(weapons_data, \"Delivery year\").sort_values(by=\"Delivery year\", ascending=True)\n",
    "print(deliveryYear_df)\n"
   ]
  },
  {
   "cell_type": "code",
   "execution_count": 11,
   "metadata": {},
   "outputs": [
    {
     "name": "stdout",
     "output_type": "stream",
     "text": [
      "Delivery year\n",
      "2008    1577.88\n",
      "2009    1637.64\n",
      "2010    2043.48\n",
      "2011    2600.79\n",
      "2012    3070.13\n",
      "2013    2048.81\n",
      "2014    2289.24\n",
      "2015    2789.68\n",
      "2016    2402.30\n",
      "2017    2136.42\n",
      "2018    1910.72\n",
      "2019    2032.03\n",
      "2020    1962.09\n",
      "2021    2190.25\n",
      "Name: SIPRI estimate, dtype: float64\n"
     ]
    }
   ],
   "source": [
    "#df delivery year by SRPRI\n",
    "deliverySRPRI_df = weapons_data.groupby('Delivery year')['SIPRI estimate'].sum()\n",
    "print(deliverySRPRI_df)"
   ]
  },
  {
   "cell_type": "code",
   "execution_count": 44,
   "metadata": {},
   "outputs": [
    {
     "name": "stdout",
     "output_type": "stream",
     "text": [
      "Delivery year\n",
      "2008     6804.3604\n",
      "2009     6888.3300\n",
      "2010     8073.7468\n",
      "2011     8943.3658\n",
      "2012     9053.3002\n",
      "2013     7503.5650\n",
      "2014     9602.0764\n",
      "2015     9682.2080\n",
      "2016     9864.3580\n",
      "2017    11838.7410\n",
      "2018     9824.3010\n",
      "2019    10923.3000\n",
      "2020     9232.8800\n",
      "2021    10613.0860\n",
      "Name: TIV delivery values, dtype: float64\n"
     ]
    }
   ],
   "source": [
    "#df delivery year by TIV\n",
    "deliveryTIV_df = weapons_data.groupby('Delivery year')['TIV delivery values'].sum()\n",
    "print(deliveryTIV_df)"
   ]
  },
  {
   "cell_type": "code",
   "execution_count": 45,
   "metadata": {},
   "outputs": [
    {
     "data": {
      "text/plain": [
       "<function matplotlib.pyplot.show(close=None, block=None)>"
      ]
     },
     "execution_count": 45,
     "metadata": {},
     "output_type": "execute_result"
    },
    {
     "data": {
      "image/png": "[encoded data removed]",
      "text/plain": [
       "<Figure size 432x288 with 1 Axes>"
      ]
     },
     "metadata": {
      "needs_background": "light"
     },
     "output_type": "display_data"
    }
   ],
   "source": [
    "#visualizing size of deal by delivery year\n",
    "#insights: TIV and SPRI follow a similar trend until after 2016; what's going on there\n",
    "import matplotlib.pyplot as plt\n",
    "\n",
    "years = deliveryYear_df[\"Delivery year\"]\n",
    "plt.plot(years, deliverySRPRI_df, color=\"blue\", label=\"SRPRI\")\n",
    "plt.plot(years, deliveryTIV_df, color=\"pink\", label=\"TIV\")\n",
    "plt.xlabel(\"Year\")\n",
    "plt.ylabel(\"Est Magnitude\")\n",
    "plt.legend()\n",
    "plt.savefig(\"Sample Visualizations/SPRI-TIV.png\", facecolor='white', transparent=False)\n",
    "plt.show\n"
   ]
  },
  {
   "cell_type": "code",
   "execution_count": 47,
   "metadata": {},
   "outputs": [
    {
     "data": {
      "image/png": "[encoded data removed]",
      "text/plain": [
       "<Figure size 432x288 with 1 Axes>"
      ]
     },
     "metadata": {},
     "output_type": "display_data"
    }
   ],
   "source": [
    "#armament pie by COUNT\n",
    "\n",
    "my_fig, my_ax = plt.subplots()\n",
    "plot = Armament_df['Count'].plot(kind = 'pie', \n",
    "                               labels = [\"\" for e in Armament_df[\"Armament category\"]],\n",
    "                               title = \"Deal Count by Armament Type\",\n",
    "                               startangle=90,\n",
    "                               autopct='%1.0f%%',\n",
    "                               pctdistance=1.2,\n",
    "                               ax = my_ax,\n",
    "                               colormap = 'magma')\n",
    "my_ax.legend(labels=Armament_df[\"Armament category\"], bbox_to_anchor=(1.02, 1), loc='upper left', borderaxespad=0)\n",
    "plt.savefig(\"Sample Visualizations/ArmamentCount.pdf\", facecolor='white', transparent=False, bbox_inches='tight')\n",
    "plt.show()"
   ]
  }
 ],
 "metadata": {
  "kernelspec": {
   "display_name": "base",
   "language": "python",
   "name": "python3"
  },
  "language_info": {
   "codemirror_mode": {
    "name": "ipython",
    "version": 3
   },
   "file_extension": ".py",
   "mimetype": "text/x-python",
   "name": "python",
   "nbconvert_exporter": "python",
   "pygments_lexer": "ipython3",
   "version": "3.9.7"
  },
  "orig_nbformat": 4,
  "vscode": {
   "interpreter": {
    "hash": "a3470eab07029032e2a81b73dd3c674333f8dbb9b419bfcace3d3e7b639bd27a"
   }
  }
 },
 "nbformat": 4,
 "nbformat_minor": 2
}
